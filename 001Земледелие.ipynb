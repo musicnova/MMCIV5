{
 "cells": [
  {
   "cell_type": "code",
   "execution_count": null,
   "metadata": {},
   "outputs": [],
   "source": [
    "import shutil\n",
    "\n",
    "saves=['001_2019_11_02_17_45']\n",
    "for save in saves:\n",
    "    shutil.copy('C:\\\\Users\\\\user\\\\Documents\\\\My Games\\\\Sid Meier\\'s Civilization 5\\\\Saves\\\\multi\\\\'+save+'.Civ5Save', 'input')\n",
    "    shutil.copy('input\\\\'+save+'.Civ5Save', 'C:\\\\Users\\\\user\\\\Documents\\\\My Games\\\\Sid Meier\\'s Civilization 5\\\\Saves\\\\multi\\\\')"
   ]
  }
 ],
 "metadata": {
  "kernelspec": {
   "display_name": "Python 3",
   "language": "python",
   "name": "python3"
  },
  "language_info": {
   "codemirror_mode": {
    "name": "ipython",
    "version": 3
   },
   "file_extension": ".py",
   "mimetype": "text/x-python",
   "name": "python",
   "nbconvert_exporter": "python",
   "pygments_lexer": "ipython3",
   "version": "3.6.5"
  }
 },
 "nbformat": 4,
 "nbformat_minor": 2
}
